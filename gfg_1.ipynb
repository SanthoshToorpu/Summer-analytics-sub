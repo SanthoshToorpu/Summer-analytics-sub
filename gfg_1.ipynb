{
  "nbformat": 4,
  "nbformat_minor": 0,
  "metadata": {
    "colab": {
      "provenance": []
    },
    "kernelspec": {
      "name": "python3",
      "display_name": "Python 3"
    },
    "language_info": {
      "name": "python"
    }
  },
  "cells": [
    {
      "cell_type": "code",
      "source": [
        "import pandas as pd\n",
        "\n",
        "train_set_labels = pd.read_csv(\"training_set_labels.csv\")\n",
        "train_set_features = pd.read_csv(\"training_set_features.csv\")\n",
        "test_set_features = pd.read_csv(\"test_set_features.csv\")"
      ],
      "metadata": {
        "id": "6oDfHuq4UkbO"
      },
      "execution_count": 73,
      "outputs": []
    },
    {
      "cell_type": "code",
      "source": [
        "train_data = train_set_features.merge(train_set_labels, on='respondent_id', how='inner')"
      ],
      "metadata": {
        "id": "I1Yxxz68UlF4"
      },
      "execution_count": 74,
      "outputs": []
    },
    {
      "cell_type": "code",
      "source": [
        "train_data = train_data.dropna()"
      ],
      "metadata": {
        "id": "rRML_42jUl7Q"
      },
      "execution_count": 75,
      "outputs": []
    },
    {
      "cell_type": "code",
      "source": [
        "train_data = train_data.dropna()"
      ],
      "metadata": {
        "id": "UWsBhZKDUm6Q"
      },
      "execution_count": 76,
      "outputs": []
    },
    {
      "cell_type": "code",
      "source": [
        "numerical_features = ['xyz_concern', 'xyz_knowledge']\n",
        "binary_features = [col for col in train_data.columns if 'behavioral' in col or 'doctor_recc' in col or 'chronic_med_condition' in col or 'child_under_6_months' in col or 'health_worker' in col or 'health_insurance' in col]\n",
        "categorical_features = [col for col in train_data.columns if col not in ['respondent_id', 'xyz_vaccine', 'seasonal_vaccine'] + numerical_features + binary_features]"
      ],
      "metadata": {
        "id": "H_KseJXqUnwp"
      },
      "execution_count": 77,
      "outputs": []
    },
    {
      "cell_type": "code",
      "source": [
        "from sklearn.preprocessing import StandardScaler, OneHotEncoder\n",
        "from sklearn.impute import SimpleImputer\n",
        "from sklearn.compose import ColumnTransformer\n",
        "\n",
        "# Preprocess numerical features\n",
        "numerical_transformer = StandardScaler()\n",
        "numerical_transformer.fit(train_data[numerical_features])\n",
        "\n",
        "# Preprocess categorical features\n",
        "categorical_transformer = OneHotEncoder(handle_unknown='ignore')\n",
        "categorical_transformer.fit(train_data[categorical_features])\n",
        "\n",
        "# Impute missing values in binary features\n",
        "binary_imputer = SimpleImputer(strategy='most_frequent')\n",
        "binary_imputer.fit(train_data[binary_features])\n",
        "\n",
        "# Combine the preprocessing steps\n",
        "preprocessor = ColumnTransformer(\n",
        "    transformers=[\n",
        "        ('num', numerical_transformer, numerical_features),\n",
        "        ('cat', categorical_transformer, categorical_features),\n",
        "        ('bin', binary_imputer, binary_features)\n",
        "    ])\n",
        "\n",
        "# Apply the preprocessing to the training data\n",
        "X_train = preprocessor.fit_transform(train_data.drop(columns=['respondent_id', 'xyz_vaccine', 'seasonal_vaccine']))\n",
        "y_train = train_data[['xyz_vaccine', 'seasonal_vaccine']]"
      ],
      "metadata": {
        "id": "DBpVx7ITUpai"
      },
      "execution_count": 79,
      "outputs": []
    },
    {
      "cell_type": "code",
      "source": [
        "from sklearn.preprocessing import StandardScaler, OneHotEncoder\n",
        "from sklearn.impute import SimpleImputer\n",
        "from sklearn.compose import ColumnTransformer\n",
        "from sklearn.multioutput import MultiOutputClassifier\n",
        "from sklearn.ensemble import RandomForestClassifier\n",
        "from sklearn.metrics import roc_auc_score\n",
        "from sklearn.model_selection import cross_validate\n"
      ],
      "metadata": {
        "id": "dxKcTqa6WAkm"
      },
      "execution_count": 121,
      "outputs": []
    },
    {
      "cell_type": "code",
      "source": [
        "from sklearn.linear_model import LogisticRegression\n",
        "clf = MultiOutputClassifier(RandomForestClassifier(random_state=42))\n",
        "scoring = ['roc_auc']\n",
        "scores = cross_validate(clf, X_train, y_train, cv=10, scoring=scoring)"
      ],
      "metadata": {
        "id": "6vJBzn80VyFX"
      },
      "execution_count": 123,
      "outputs": []
    },
    {
      "cell_type": "code",
      "source": [
        "# Print the mean ROC AUC scores\n",
        "print(f\"Mean ROC AUC for xyz_vaccine: {scores['test_roc_auc'][0]:.3f}\")\n",
        "print(f\"Mean ROC AUC for seasonal_vaccine: {scores['test_roc_auc'][1]:.3f}\")\n",
        "print(f\"Mean ROC AUC: {(scores['test_roc_auc'][0] + scores['test_roc_auc'][1]) / 2:.3f}\")"
      ],
      "metadata": {
        "colab": {
          "base_uri": "https://localhost:8080/"
        },
        "id": "Htl74GABXbKn",
        "outputId": "25a30631-b201-44d2-d45e-bd6e137529b7"
      },
      "execution_count": 124,
      "outputs": [
        {
          "output_type": "stream",
          "name": "stdout",
          "text": [
            "Mean ROC AUC for xyz_vaccine: 0.871\n",
            "Mean ROC AUC for seasonal_vaccine: 0.847\n",
            "Mean ROC AUC: 0.859\n"
          ]
        }
      ]
    },
    {
      "cell_type": "code",
      "source": [
        "clf.fit(X_train, y_train)\n",
        "# Preprocess the test set\n",
        "test_set_features = test_set_features.fillna(test_set_features.mode().iloc[0])\n",
        "X_test_final = preprocessor.transform(test_set_features.drop(columns=['respondent_id']))\n",
        "\n",
        "# Make predictions on the test set\n",
        "y_test_pred = clf.predict_proba(X_test_final)\n",
        "y_test_pred_xyz = y_test_pred[0][:, 1]\n",
        "y_test_pred_seasonal = y_test_pred[1][:, 1]\n",
        "\n",
        "# Prepare the submission file\n",
        "submission = pd.DataFrame({\n",
        "    'respondent_id': test_set_features['respondent_id'],\n",
        "    'xyz_vaccine': y_test_pred_xyz,\n",
        "    'seasonal_vaccine': y_test_pred_seasonal\n",
        "})\n",
        "\n",
        "# Save to CSV\n",
        "submission.to_csv('submission_cv_randomforest.csv', index=False)"
      ],
      "metadata": {
        "id": "RMOuIkuJXXrN"
      },
      "execution_count": 125,
      "outputs": []
    },
    {
      "cell_type": "code",
      "source": [],
      "metadata": {
        "id": "B3REFOe4Vbfz"
      },
      "execution_count": null,
      "outputs": []
    }
  ]
}